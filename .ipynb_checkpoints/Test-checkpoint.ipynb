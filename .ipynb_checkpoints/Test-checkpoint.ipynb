{
 "metadata": {
  "name": "",
  "signature": "sha256:8a63417e06ab660a9dce3c54e0cce95ebfffada4090705e2feef4a8bb6a60d98"
 },
 "nbformat": 3,
 "nbformat_minor": 0,
 "worksheets": [
  {
   "cells": [
    {
     "cell_type": "markdown",
     "metadata": {},
     "source": [
      "https://www.genomeweb.com/informatics/community-wide-effort-aims-better-represent-variation-human-reference-genome"
     ]
    },
    {
     "cell_type": "heading",
     "level": 1,
     "metadata": {},
     "source": [
      "Hello"
     ]
    },
    {
     "cell_type": "code",
     "collapsed": false,
     "input": [
      "import pylabs\n",
      "import matplotlib.pyplot as plt"
     ],
     "language": "python",
     "metadata": {},
     "outputs": [],
     "prompt_number": 7
    },
    {
     "cell_type": "code",
     "collapsed": false,
     "input": [],
     "language": "python",
     "metadata": {},
     "outputs": []
    }
   ],
   "metadata": {}
  }
 ]
}