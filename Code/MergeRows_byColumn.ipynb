{
 "metadata": {
  "name": "",
  "signature": "sha256:aba3172122ce5332f78981453611795b91aeb12452880ad3e9832b8bfdc3affc"
 },
 "nbformat": 3,
 "nbformat_minor": 0,
 "worksheets": [
  {
   "cells": [
    {
     "cell_type": "code",
     "collapsed": false,
     "input": [
      "#!/usr/bin/env python\n",
      "import csv\n",
      "from collections import defaultdict"
     ],
     "language": "python",
     "metadata": {},
     "outputs": [],
     "prompt_number": 122
    },
    {
     "cell_type": "code",
     "collapsed": false,
     "input": [
      "infile = file(\"/Users/alexaheekes/Masters/Files/MHCGeneList_biomaRt.txt\",'r')\n",
      "outfile= open(\"/Users/alexaheekes/Masters/Files/MHCGeneList.txt\",'w')\n",
      "f_in = csv.reader(infile,delimiter=\"\\t\")\n",
      "f_out = csv.writer(outfile,delimiter=\"\\t\")\n",
      "\n",
      "header = infile.readline().strip(\"\\n\")\n",
      "colnames = header.split(\"\\t\")\n",
      "n = 8\n",
      "\n",
      "id_annot = defaultdict(list)\n",
      "id_go = defaultdict(list)\n",
      "ids = set()\n",
      "for row in f_in:\n",
      "    id = row[0]\n",
      "    go = row[n]\n",
      "    id_annot[id].append([row[i] for i in range(n)])\n",
      "    id_go[id].append(go)\n",
      "    ids.add(id)  \n",
      "#print len(ids), len(id_go),len(id_annot)\n",
      "f_out.writerows([colnames])\n",
      "for i in id_annot:\n",
      "    annotations = id_annot[i][0]\n",
      "    go_terms = filter(None,id_go[i])\n",
      "    annotations.append(go_terms)\n",
      "    f_out.writerows([annotations])"
     ],
     "language": "python",
     "metadata": {},
     "outputs": [],
     "prompt_number": 123
    }
   ],
   "metadata": {}
  }
 ]
}